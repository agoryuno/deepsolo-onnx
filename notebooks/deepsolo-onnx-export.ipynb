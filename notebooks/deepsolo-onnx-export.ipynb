{
  "cells": [
    {
      "cell_type": "code",
      "execution_count": null,
      "metadata": {
        "id": "H_yzGnfLgJaA"
      },
      "outputs": [],
      "source": [
        "%%capture\n",
        "\n",
        "!git clone https://github.com/agoryuno/deepsolo-onnx\n",
        "\n",
        "import os\n",
        "import shutil\n",
        "os.chdir('deepsolo-onnx')\n",
        "\n",
        "!pip install torch torchvision -f https://download.pytorch.org/whl/torch_stable.html\n",
        "!pip install -r requirements.txt\n",
        "\n",
        "!python setup.py sdist bdist_wheel\n",
        "!pip install dist/*.whl\n",
        "\n",
        "shutil.copy('configs/Base_det_export.yaml', '/content')\n",
        "\n",
        "os.chdir('/content')\n",
        "\n",
        "!rm -rf deepsolo-onnx"
      ]
    },
    {
      "cell_type": "code",
      "execution_count": null,
      "metadata": {
        "id": "cN8kGfDGFSnr"
      },
      "outputs": [],
      "source": [
        "# This is for quick reloads during development- DON\"T EXECUTE\n",
        "#\n",
        "assert False\n",
        "!pip install --force-reinstall --no-deps git+https://github.com/agoryuno/deepsolo-onnx"
      ]
    },
    {
      "cell_type": "code",
      "execution_count": null,
      "metadata": {
        "id": "sHb0sSBxouvf"
      },
      "outputs": [],
      "source": [
        "# Specify the path to the DeepSolo checkpoint you want to export\n",
        "# you can download one from the main DeepSolo repo: \n",
        "# https://github.com/ViTAE-Transformer/DeepSolo\n",
        "#\n",
        "CHECKPOINT = \"/content/drive/MyDrive/deepsolo/vitaev2-s_pretrain_synth-tt-mlt-13-15-textocr.pth\"\n",
        "\n",
        "# This is the path for the output\n",
        "#\n",
        "OUTPATH = \"deepsolo.onnx\"\n",
        "\n",
        "# Input and output image dimensions - these are fixed \n",
        "# for the exported ONNX model, so choose wisely\n",
        "# greater dims => greater checkpoint size\n",
        "DIMS = (512,512)\n",
        "\n",
        "from DeepSolo.onnx_model import SimpleONNXReadyModel\n",
        "\n",
        "# This is the default config file\n",
        "# you probably should leave it alone\n",
        "#\n",
        "CONFIG = \"/content/Base_det_export.yaml\"\n",
        "\n",
        "# The number of channels in an image\n",
        "# This can be left at default\n",
        "#\n",
        "CHANNELS = 3\n",
        "\n",
        "model = SimpleONNXReadyModel(CONFIG, CHECKPOINT)"
      ]
    },
    {
      "cell_type": "code",
      "execution_count": 3,
      "metadata": {
        "id": "Qlh0RmADOJ0W"
      },
      "outputs": [],
      "source": [
        "# Creating a fake \"image\" to set the input-output dimensions\n",
        "# of the exported model's data\n",
        "#\n",
        "\n",
        "import numpy as np\n",
        "\n",
        "img = np.random.randint(0, 255, (CHANNELS, *DIMS))"
      ]
    },
    {
      "cell_type": "code",
      "execution_count": null,
      "metadata": {
        "id": "Os6_WaaYit3h"
      },
      "outputs": [],
      "source": [
        "# Export the checkpoint\n",
        "#\n",
        "import torch.onnx\n",
        "import torch\n",
        "\n",
        "img_t = torch.from_numpy(img)\n",
        "\n",
        "torch.onnx.export(model.model,\n",
        "           [img_t],\n",
        "           OUTPATH,\n",
        "           export_params=True,\n",
        "           do_constant_folding=True,)"
      ]
    }
  ],
  "metadata": {
    "accelerator": "GPU",
    "colab": {
      "provenance": []
    },
    "kernelspec": {
      "display_name": "Python 3",
      "name": "python3"
    },
    "language_info": {
      "name": "python"
    }
  },
  "nbformat": 4,
  "nbformat_minor": 0
}
